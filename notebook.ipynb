{
 "cells": [
  {
   "cell_type": "code",
   "execution_count": 39,
   "metadata": {},
   "outputs": [],
   "source": [
    "import matplotlib.pyplot as plt\n",
    "from collections import Counter\n",
    "import random"
   ]
  },
  {
   "cell_type": "code",
   "execution_count": 2,
   "metadata": {
    "collapsed": true
   },
   "outputs": [],
   "source": [
    "undirected = ['RelatedTo','SimilarTo','Antonym','Synonym','DistinctFrom','EtymologicallyRelatedTo']"
   ]
  },
  {
   "cell_type": "code",
   "execution_count": 3,
   "metadata": {
    "collapsed": true
   },
   "outputs": [],
   "source": [
    "def readcsv():\n",
    "    G={}\n",
    "    \n",
    "    with open('G','rt',encoding=\"utf8\") as file:\n",
    "        print('start')\n",
    "        totalRelations=0\n",
    "        totalItems=0\n",
    "        for i,row in enumerate(file):\n",
    "            totalRelations+=1\n",
    "            if (len(row.split()) != 3):\n",
    "                continue\n",
    "            item1,item2,rel = row.split()\n",
    "            #print(item1)\n",
    "            if item1 in G:\n",
    "                G[item1][0] += [item2]  #edge\n",
    "                G[item1][1] += [rel]    #label\n",
    "                G[item1][2] += 1        #degree\n",
    "            else:\n",
    "                G[item1] = [[item2],[rel],1]\n",
    "                totalItems+=1\n",
    "            if rel in undirected:\n",
    "                if item2 in G:\n",
    "                    G[item2][0] += [item2]  #edge\n",
    "                    G[item2][1] += [rel]    #label\n",
    "                    G[item2][2] += 1        #degree\n",
    "                else:\n",
    "                    G[item2] = [[item1],[rel],1]\n",
    "        #print(G)   \n",
    "        print(totalItems)\n",
    "        print(totalRelations)\n",
    "        print('done creating graph')\n",
    "        return G"
   ]
  },
  {
   "cell_type": "code",
   "execution_count": 4,
   "metadata": {
    "collapsed": true
   },
   "outputs": [],
   "source": [
    "def plotHist(G):\n",
    "    Hist = {}\n",
    "    for item in G:\n",
    "        if G[item][2] not in Hist:\n",
    "            Hist[G[item][2]] = 1\n",
    "        else:\n",
    "            Hist[G[item][2]] +=1\n",
    "        if G[item][2] > 1500:\n",
    "            print(item, G[item][2])\n",
    "    xAxis = list(Hist.keys())\n",
    "    yAxis = list(Hist.values())\n",
    "    plt.scatter(xAxis,yAxis)\n",
    "\n",
    "    plt.show()"
   ]
  },
  {
   "cell_type": "code",
   "execution_count": 5,
   "metadata": {},
   "outputs": [
    {
     "name": "stdout",
     "output_type": "stream",
     "text": [
      "start\n",
      "491567\n",
      "3391306\n",
      "done creating graph\n",
      "cell 1608\n",
      "drug 2884\n",
      "fish 1590\n",
      "hydrogen 2109\n",
      "iron 1662\n",
      "mineral 3952\n",
      "oxygen 2880\n",
      "people 2676\n",
      "person 2566\n",
      "plant 2375\n",
      "water 2136\n",
      "language 1840\n",
      "genus 1675\n"
     ]
    },
    {
     "data": {
      "image/png": "[encoded data removed]",
      "text/plain": [
       "<matplotlib.figure.Figure at 0x242fd45a908>"
      ]
     },
     "metadata": {},
     "output_type": "display_data"
    }
   ],
   "source": [
    "G = readcsv()\n",
    "plotHist(G)"
   ]
  },
  {
   "cell_type": "code",
   "execution_count": 6,
   "metadata": {},
   "outputs": [
    {
     "name": "stdout",
     "output_type": "stream",
     "text": [
      "Counter({'RelatedTo': 3927, 'IsA': 7, 'UsedFor': 7, 'AtLocation': 5, 'SimilarTo': 2, 'Synonym': 2, 'HasProperty': 1, 'NotHasProperty': 1})\n"
     ]
    }
   ],
   "source": [
    "plant = G['mineral']\n",
    "relCounts = Counter(plant[1])\n",
    "adjCounts = Counter(plant[0])\n",
    "print(relCounts)"
   ]
  },
  {
   "cell_type": "code",
   "execution_count": 7,
   "metadata": {},
   "outputs": [],
   "source": [
    "next={}\n",
    "for v in G:\n",
    "    if 'mineral' in G[v][0]:\n",
    "        for i in range(len(G[v][0])):\n",
    "            item = G[v][0][i]\n",
    "            rel = G[v][1][i]\n",
    "            name = rel+' '+item\n",
    "            if name in next:\n",
    "                next[name]+=1\n",
    "            else:\n",
    "                next[name]=1"
   ]
  },
  {
   "cell_type": "code",
   "execution_count": 8,
   "metadata": {},
   "outputs": [
    {
     "name": "stdout",
     "output_type": "stream",
     "text": [
      "Is it RelatedTo oxygen?\n"
     ]
    }
   ],
   "source": [
    "target = sorted(next,key=next.get)[-2]\n",
    "print('Is it ' + target + '?')"
   ]
  },
  {
   "cell_type": "code",
   "execution_count": 69,
   "metadata": {},
   "outputs": [],
   "source": [
    "def findCommonMatch(G,guess,ag,ng):\n",
    "    next = {}\n",
    "    numItems = 0\n",
    "    for v in G:\n",
    "        if guess in G[v][0] or guess == 'all':\n",
    "            \n",
    "            overallValid = 1\n",
    "            \n",
    "            #validate this potential guess against previous negative guesses\n",
    "            #change these to ~90% of previous answers?\n",
    "            for j in ng:\n",
    "                for i in range(len(G[v][0])):\n",
    "                    if G[v][0][i] == j.split()[1] and G[v][1][i] == j.split()[0]:\n",
    "                        overallValid = 0\n",
    "                        break\n",
    "                if overallValid == 0:\n",
    "                    break\n",
    "            if overallValid == 0:\n",
    "                continue\n",
    "                \n",
    "            #validate this potential guess against previous positive guesses\n",
    "            for j in ag:\n",
    "                valid = 0\n",
    "                for i in range(len(G[v][0])):\n",
    "                    if G[v][0][i] == j.split()[1] and G[v][1][i] == j.split()[0]:\n",
    "                        valid = 1\n",
    "                if valid == 0:\n",
    "                    overallValid = 0\n",
    "                    break\n",
    "            if overallValid == 0:\n",
    "                continue\n",
    "            \n",
    "                \n",
    "            numItems += 1\n",
    "            for i in range(len(G[v][0])):\n",
    "                item = G[v][0][i]\n",
    "                rel = G[v][1][i]\n",
    "                name = rel+' '+item\n",
    "                if name in next:\n",
    "                    next[name]+=1\n",
    "                else:\n",
    "                    next[name]=1\n",
    "                if rel == 'RelatedTo':\n",
    "                    next[name]-=0.85\n",
    "                \n",
    "                if rel == 'IsA':\n",
    "                    next[name]-=0.5\n",
    "                    #because RelatedTo sucks, but maybe we could \n",
    "                    #make this generic, like try not to ask the same type\n",
    "                    #of relation within 5 questions\n",
    "                    \n",
    "    print('Valid items: ' + str(numItems))\n",
    "    if len(next) == 0:\n",
    "        return 'not found error'\n",
    "    for item in reversed(sorted(next,key=next.get)):\n",
    "        if item not in ag:\n",
    "            if numItems < 2:\n",
    "                print('Final answer: ' + item.split()[1])\n",
    "                return 'f'\n",
    "            return item"
   ]
  },
  {
   "cell_type": "code",
   "execution_count": 70,
   "metadata": {},
   "outputs": [],
   "source": [
    "def playGame(G):\n",
    "    posGuesses = []\n",
    "    negGuesses = []\n",
    "    currentGuess = findCommonMatch(G,'all',posGuesses,negGuesses)\n",
    "    while True:\n",
    "        print('Is it ' + currentGuess + '?')\n",
    "        answer = random.randint(0,1)\n",
    "        if answer == 1:\n",
    "            print('Yes.')\n",
    "            posGuesses.append(currentGuess)\n",
    "            currentGuess = findCommonMatch(G,currentGuess.split()[1],posGuesses,negGuesses)\n",
    "            if currentGuess == 'f':\n",
    "                break\n",
    "        else:\n",
    "            print('No.')\n",
    "            negGuesses.append(currentGuess)\n",
    "            currentGuess = findCommonMatch(G,'all',posGuesses,negGuesses)\n",
    "            if currentGuess == 'f':\n",
    "                break"
   ]
  },
  {
   "cell_type": "code",
   "execution_count": 74,
   "metadata": {},
   "outputs": [
    {
     "name": "stdout",
     "output_type": "stream",
     "text": [
      "Valid items: 650787\n",
      "Is it IsA plant?\n",
      "No.\n",
      "Valid items: 647903\n",
      "Is it IsA person?\n",
      "No.\n",
      "Valid items: 645544\n",
      "Is it IsA chemical_compound?\n",
      "No.\n",
      "Valid items: 643068\n",
      "Is it RelatedTo mineral?\n",
      "Yes.\n",
      "Valid items: 3885\n",
      "Is it IsA mineral?\n",
      "No.\n",
      "Valid items: 3372\n",
      "Is it RelatedTo oxygen?\n",
      "No.\n",
      "Valid items: 1333\n",
      "Is it RelatedTo animal?\n",
      "Yes.\n",
      "Valid items: 5\n",
      "Is it RelatedTo vegetable?\n",
      "Yes.\n",
      "Valid items: 3\n",
      "Is it Synonym animal?\n",
      "No.\n",
      "Valid items: 2\n",
      "Is it Synonym vegetable?\n",
      "Yes.\n",
      "Valid items: 1\n",
      "Final answer: cabbage\n"
     ]
    }
   ],
   "source": [
    "mostCommon = 'all'\n",
    "playGame(G)"
   ]
  },
  {
   "cell_type": "code",
   "execution_count": null,
   "metadata": {
    "collapsed": true
   },
   "outputs": [],
   "source": []
  }
 ],
 "metadata": {
  "anaconda-cloud": {},
  "kernelspec": {
   "display_name": "Python 3",
   "language": "python",
   "name": "python3"
  },
  "language_info": {
   "codemirror_mode": {
    "name": "ipython",
    "version": 3
   },
   "file_extension": ".py",
   "mimetype": "text/x-python",
   "name": "python",
   "nbconvert_exporter": "python",
   "pygments_lexer": "ipython3",
   "version": "3.6.4"
  }
 },
 "nbformat": 4,
 "nbformat_minor": 1
}
